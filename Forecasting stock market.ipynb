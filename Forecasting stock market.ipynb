{
 "cells": [
  {
   "cell_type": "code",
   "execution_count": 18,
   "id": "a9179f4d-32eb-4ac2-93da-078dbcdfe0f1",
   "metadata": {},
   "outputs": [
    {
     "name": "stderr",
     "output_type": "stream",
     "text": [
      "2023-01-09 10:27:43.269015: I tensorflow/core/platform/cpu_feature_guard.cc:193] This TensorFlow binary is optimized with oneAPI Deep Neural Network Library (oneDNN) to use the following CPU instructions in performance-critical operations:  AVX2 FMA\n",
      "To enable them in other operations, rebuild TensorFlow with the appropriate compiler flags.\n"
     ]
    }
   ],
   "source": [
    "import pandas as pd\n",
    "import numpy as np\n",
    "\n",
    "import seaborn as sns\n",
    "import matplotlib.pyplot as plt\n",
    "\n",
    "import tensorflow as tf\n",
    "from tensorflow.keras.models import Sequential\n",
    "from tensorflow.keras.layers import Dense\n",
    "from tensorflow.keras.layers import LSTM\n",
    "from sklearn.preprocessing import MinMaxScaler\n",
    "from sklearn.metrics import mean_squared_error"
   ]
  },
  {
   "cell_type": "code",
   "execution_count": 2,
   "id": "6cede720-e82a-4274-9221-593164818826",
   "metadata": {},
   "outputs": [
    {
     "data": {
      "text/html": [
       "<div>\n",
       "<style scoped>\n",
       "    .dataframe tbody tr th:only-of-type {\n",
       "        vertical-align: middle;\n",
       "    }\n",
       "\n",
       "    .dataframe tbody tr th {\n",
       "        vertical-align: top;\n",
       "    }\n",
       "\n",
       "    .dataframe thead th {\n",
       "        text-align: right;\n",
       "    }\n",
       "</style>\n",
       "<table border=\"1\" class=\"dataframe\">\n",
       "  <thead>\n",
       "    <tr style=\"text-align: right;\">\n",
       "      <th></th>\n",
       "      <th>Date</th>\n",
       "      <th>Open</th>\n",
       "      <th>High</th>\n",
       "      <th>Low</th>\n",
       "      <th>Last</th>\n",
       "      <th>Close</th>\n",
       "      <th>Total Trade Quantity</th>\n",
       "      <th>Turnover (Lacs)</th>\n",
       "    </tr>\n",
       "  </thead>\n",
       "  <tbody>\n",
       "    <tr>\n",
       "      <th>0</th>\n",
       "      <td>2018-09-28</td>\n",
       "      <td>234.05</td>\n",
       "      <td>235.95</td>\n",
       "      <td>230.20</td>\n",
       "      <td>233.50</td>\n",
       "      <td>233.75</td>\n",
       "      <td>3069914</td>\n",
       "      <td>7162.35</td>\n",
       "    </tr>\n",
       "    <tr>\n",
       "      <th>1</th>\n",
       "      <td>2018-09-27</td>\n",
       "      <td>234.55</td>\n",
       "      <td>236.80</td>\n",
       "      <td>231.10</td>\n",
       "      <td>233.80</td>\n",
       "      <td>233.25</td>\n",
       "      <td>5082859</td>\n",
       "      <td>11859.95</td>\n",
       "    </tr>\n",
       "    <tr>\n",
       "      <th>2</th>\n",
       "      <td>2018-09-26</td>\n",
       "      <td>240.00</td>\n",
       "      <td>240.00</td>\n",
       "      <td>232.50</td>\n",
       "      <td>235.00</td>\n",
       "      <td>234.25</td>\n",
       "      <td>2240909</td>\n",
       "      <td>5248.60</td>\n",
       "    </tr>\n",
       "    <tr>\n",
       "      <th>3</th>\n",
       "      <td>2018-09-25</td>\n",
       "      <td>233.30</td>\n",
       "      <td>236.75</td>\n",
       "      <td>232.00</td>\n",
       "      <td>236.25</td>\n",
       "      <td>236.10</td>\n",
       "      <td>2349368</td>\n",
       "      <td>5503.90</td>\n",
       "    </tr>\n",
       "    <tr>\n",
       "      <th>4</th>\n",
       "      <td>2018-09-24</td>\n",
       "      <td>233.55</td>\n",
       "      <td>239.20</td>\n",
       "      <td>230.75</td>\n",
       "      <td>234.00</td>\n",
       "      <td>233.30</td>\n",
       "      <td>3423509</td>\n",
       "      <td>7999.55</td>\n",
       "    </tr>\n",
       "  </tbody>\n",
       "</table>\n",
       "</div>"
      ],
      "text/plain": [
       "         Date    Open    High     Low    Last   Close  Total Trade Quantity  \\\n",
       "0  2018-09-28  234.05  235.95  230.20  233.50  233.75               3069914   \n",
       "1  2018-09-27  234.55  236.80  231.10  233.80  233.25               5082859   \n",
       "2  2018-09-26  240.00  240.00  232.50  235.00  234.25               2240909   \n",
       "3  2018-09-25  233.30  236.75  232.00  236.25  236.10               2349368   \n",
       "4  2018-09-24  233.55  239.20  230.75  234.00  233.30               3423509   \n",
       "\n",
       "   Turnover (Lacs)  \n",
       "0          7162.35  \n",
       "1         11859.95  \n",
       "2          5248.60  \n",
       "3          5503.90  \n",
       "4          7999.55  "
      ]
     },
     "execution_count": 2,
     "metadata": {},
     "output_type": "execute_result"
    }
   ],
   "source": [
    "data=pd.read_csv('https://raw.githubusercontent.com/mwitiderrick/stockprice/master/NSE-TATAGLOBAL.csv')\n",
    "data.head()"
   ]
  },
  {
   "cell_type": "code",
   "execution_count": 3,
   "id": "98f36d90-f191-43fd-8aab-430c54382afe",
   "metadata": {},
   "outputs": [
    {
     "data": {
      "text/plain": [
       "False"
      ]
     },
     "execution_count": 3,
     "metadata": {},
     "output_type": "execute_result"
    }
   ],
   "source": [
    "#checking if there are any null values\n",
    "data.isnull().values.any()\n",
    "#No null values"
   ]
  },
  {
   "cell_type": "code",
   "execution_count": 5,
   "id": "4b9334b6-5009-45c1-b19f-3e95235180be",
   "metadata": {},
   "outputs": [
    {
     "data": {
      "text/plain": [
       "0       2018-09-28\n",
       "1       2018-09-27\n",
       "2       2018-09-26\n",
       "3       2018-09-25\n",
       "4       2018-09-24\n",
       "           ...    \n",
       "2030    2010-07-27\n",
       "2031    2010-07-26\n",
       "2032    2010-07-23\n",
       "2033    2010-07-22\n",
       "2034    2010-07-21\n",
       "Name: Date, Length: 2035, dtype: object"
      ]
     },
     "execution_count": 5,
     "metadata": {},
     "output_type": "execute_result"
    }
   ],
   "source": [
    "#now we have to look at the date column and make sure it is in datetime.\n",
    "data.Date"
   ]
  },
  {
   "cell_type": "code",
   "execution_count": 6,
   "id": "a46f71e6-a74c-403e-8ae9-ec630260ddb9",
   "metadata": {},
   "outputs": [
    {
     "data": {
      "text/plain": [
       "0      2018-09-28\n",
       "1      2018-09-27\n",
       "2      2018-09-26\n",
       "3      2018-09-25\n",
       "4      2018-09-24\n",
       "          ...    \n",
       "2030   2010-07-27\n",
       "2031   2010-07-26\n",
       "2032   2010-07-23\n",
       "2033   2010-07-22\n",
       "2034   2010-07-21\n",
       "Name: Date, Length: 2035, dtype: datetime64[ns]"
      ]
     },
     "execution_count": 6,
     "metadata": {},
     "output_type": "execute_result"
    }
   ],
   "source": [
    "#dtype=object so it is a string we need to change this\n",
    "\n",
    "data.Date=pd.to_datetime(data.Date)\n",
    "data.Date\n",
    "\n",
    "#This has been resolved"
   ]
  },
  {
   "cell_type": "code",
   "execution_count": 15,
   "id": "f6e76571-5efc-4689-a5e3-83bc3c58175b",
   "metadata": {},
   "outputs": [
    {
     "name": "stderr",
     "output_type": "stream",
     "text": [
      "/var/folders/q3/qnmsstfj6vxgqnpl92nbdbr40000gr/T/ipykernel_14179/270846843.py:3: SettingWithCopyWarning: \n",
      "A value is trying to be set on a copy of a slice from a DataFrame\n",
      "\n",
      "See the caveats in the documentation: https://pandas.pydata.org/pandas-docs/stable/user_guide/indexing.html#returning-a-view-versus-a-copy\n",
      "  df.sort_index(ascending=True,inplace=True)\n"
     ]
    }
   ],
   "source": [
    "df=data[['Date','Close']]\n",
    "df.set_index('Date',inplace=True)\n",
    "df.sort_index(ascending=True,inplace=True)"
   ]
  },
  {
   "cell_type": "code",
   "execution_count": 16,
   "id": "3b53d310-7225-469e-b550-0052a5e0e14c",
   "metadata": {},
   "outputs": [
    {
     "data": {
      "text/html": [
       "<div>\n",
       "<style scoped>\n",
       "    .dataframe tbody tr th:only-of-type {\n",
       "        vertical-align: middle;\n",
       "    }\n",
       "\n",
       "    .dataframe tbody tr th {\n",
       "        vertical-align: top;\n",
       "    }\n",
       "\n",
       "    .dataframe thead th {\n",
       "        text-align: right;\n",
       "    }\n",
       "</style>\n",
       "<table border=\"1\" class=\"dataframe\">\n",
       "  <thead>\n",
       "    <tr style=\"text-align: right;\">\n",
       "      <th></th>\n",
       "      <th>Close</th>\n",
       "    </tr>\n",
       "    <tr>\n",
       "      <th>Date</th>\n",
       "      <th></th>\n",
       "    </tr>\n",
       "  </thead>\n",
       "  <tbody>\n",
       "    <tr>\n",
       "      <th>2010-07-21</th>\n",
       "      <td>121.55</td>\n",
       "    </tr>\n",
       "    <tr>\n",
       "      <th>2010-07-22</th>\n",
       "      <td>120.90</td>\n",
       "    </tr>\n",
       "    <tr>\n",
       "      <th>2010-07-23</th>\n",
       "      <td>120.65</td>\n",
       "    </tr>\n",
       "    <tr>\n",
       "      <th>2010-07-26</th>\n",
       "      <td>117.60</td>\n",
       "    </tr>\n",
       "    <tr>\n",
       "      <th>2010-07-27</th>\n",
       "      <td>118.65</td>\n",
       "    </tr>\n",
       "  </tbody>\n",
       "</table>\n",
       "</div>"
      ],
      "text/plain": [
       "             Close\n",
       "Date              \n",
       "2010-07-21  121.55\n",
       "2010-07-22  120.90\n",
       "2010-07-23  120.65\n",
       "2010-07-26  117.60\n",
       "2010-07-27  118.65"
      ]
     },
     "execution_count": 16,
     "metadata": {},
     "output_type": "execute_result"
    }
   ],
   "source": [
    "df.head()"
   ]
  },
  {
   "cell_type": "code",
   "execution_count": 17,
   "id": "c5aef284-30ae-45fe-8241-27e204811f6b",
   "metadata": {},
   "outputs": [
    {
     "data": {
      "text/plain": [
       "[<matplotlib.lines.Line2D at 0x7fdac0082340>]"
      ]
     },
     "execution_count": 17,
     "metadata": {},
     "output_type": "execute_result"
    },
    {
     "data": {
      "image/png": "[encoded data removed]",
      "text/plain": [
       "<Figure size 432x288 with 1 Axes>"
      ]
     },
     "metadata": {
      "needs_background": "light"
     },
     "output_type": "display_data"
    }
   ],
   "source": [
    "plt.plot(df)"
   ]
  },
  {
   "cell_type": "code",
   "execution_count": 19,
   "id": "c1916476-c0d6-4d74-b650-35dd9cd91ea7",
   "metadata": {},
   "outputs": [],
   "source": [
    "#we need to normalise data as LSTMs are sensitive to scale\n",
    "\n",
    "scaling = MinMaxScaler(feature_range=(0, 1))\n",
    "df = scaling.fit_transform(df)"
   ]
  },
  {
   "cell_type": "code",
   "execution_count": 56,
   "id": "d5ad3068-a671-46ee-a698-597940854ddc",
   "metadata": {},
   "outputs": [
    {
     "name": "stdout",
     "output_type": "stream",
     "text": [
      "1424 611\n"
     ]
    }
   ],
   "source": [
    "#Getting a training and testing set \n",
    "\n",
    "train_size = int(len(df) * 0.70)\n",
    "test_size = len(df) - train_size\n",
    "train, test = df[0:train_size,:], df[train_size:len(df),:]\n",
    "print(len(train), len(test))"
   ]
  },
  {
   "cell_type": "code",
   "execution_count": 69,
   "id": "b723f209-d3b7-41bf-83d9-004a7a18ff83",
   "metadata": {},
   "outputs": [],
   "source": [
    "def datasetting(dataset, targetting=1):\n",
    "    dataX, dataY = [], []\n",
    "    for i in range(len(dataset)-targetting-1):\n",
    "        a = dataset[i:(i+targetting), 0]\n",
    "        dataX.append(a)\n",
    "        dataY.append(dataset[i + targetting, 0])\n",
    "    return np.array(dataX), np.array(dataY)"
   ]
  },
  {
   "cell_type": "code",
   "execution_count": 71,
   "id": "fe3c028c-9583-45f0-8d25-0824d4241fcb",
   "metadata": {},
   "outputs": [
    {
     "name": "stdout",
     "output_type": "stream",
     "text": [
      "(array([[0.16584967],\n",
      "       [0.16319444],\n",
      "       [0.1621732 ],\n",
      "       ...,\n",
      "       [0.62234477],\n",
      "       [0.63378268],\n",
      "       [0.62622549]]), array([0.16319444, 0.1621732 , 0.14971405, ..., 0.63378268, 0.62622549,\n",
      "       0.62214052]))\n"
     ]
    }
   ],
   "source": [
    "print(datasetting(df,targetting=1))\n",
    "#As expected our function gives us 2 arrays one tracking behind the other by our targetting value"
   ]
  },
  {
   "cell_type": "code",
   "execution_count": 72,
   "id": "674b4ba0-f4a4-4c07-b57c-2f4723e1bdbe",
   "metadata": {},
   "outputs": [],
   "source": [
    "#Now we will prepare the training and test datasets\n",
    "\n",
    "targetting = 1\n",
    "trainX, trainY = datasetting(train, targetting)\n",
    "testX, testY = datasetting(test, targetting)\n",
    "\n",
    "# reshape input\n",
    "trainX = np.reshape(trainX, (trainX.shape[0], 1, trainX.shape[1]))\n",
    "testX = np.reshape(testX, (testX.shape[0], 1, testX.shape[1]))"
   ]
  },
  {
   "cell_type": "code",
   "execution_count": 73,
   "id": "f831750f-356e-43a1-8de1-739905596978",
   "metadata": {},
   "outputs": [
    {
     "name": "stdout",
     "output_type": "stream",
     "text": [
      "Epoch 1/100\n",
      "1422/1422 - 6s - loss: 0.0021 - 6s/epoch - 4ms/step\n",
      "Epoch 2/100\n",
      "1422/1422 - 3s - loss: 1.2862e-04 - 3s/epoch - 2ms/step\n",
      "Epoch 3/100\n",
      "1422/1422 - 3s - loss: 1.3246e-04 - 3s/epoch - 2ms/step\n",
      "Epoch 4/100\n",
      "1422/1422 - 2s - loss: 1.3295e-04 - 2s/epoch - 2ms/step\n",
      "Epoch 5/100\n",
      "1422/1422 - 3s - loss: 1.3056e-04 - 3s/epoch - 2ms/step\n",
      "Epoch 6/100\n",
      "1422/1422 - 3s - loss: 1.3215e-04 - 3s/epoch - 2ms/step\n",
      "Epoch 7/100\n",
      "1422/1422 - 2s - loss: 1.3057e-04 - 2s/epoch - 2ms/step\n",
      "Epoch 8/100\n",
      "1422/1422 - 2s - loss: 1.3004e-04 - 2s/epoch - 2ms/step\n",
      "Epoch 9/100\n",
      "1422/1422 - 2s - loss: 1.3122e-04 - 2s/epoch - 2ms/step\n",
      "Epoch 10/100\n",
      "1422/1422 - 2s - loss: 1.3200e-04 - 2s/epoch - 2ms/step\n",
      "Epoch 11/100\n",
      "1422/1422 - 2s - loss: 1.3195e-04 - 2s/epoch - 2ms/step\n",
      "Epoch 12/100\n",
      "1422/1422 - 3s - loss: 1.3211e-04 - 3s/epoch - 2ms/step\n",
      "Epoch 13/100\n",
      "1422/1422 - 2s - loss: 1.3090e-04 - 2s/epoch - 2ms/step\n",
      "Epoch 14/100\n",
      "1422/1422 - 3s - loss: 1.2796e-04 - 3s/epoch - 2ms/step\n",
      "Epoch 15/100\n",
      "1422/1422 - 4s - loss: 1.3276e-04 - 4s/epoch - 3ms/step\n",
      "Epoch 16/100\n",
      "1422/1422 - 3s - loss: 1.2872e-04 - 3s/epoch - 2ms/step\n",
      "Epoch 17/100\n",
      "1422/1422 - 3s - loss: 1.3501e-04 - 3s/epoch - 2ms/step\n",
      "Epoch 18/100\n",
      "1422/1422 - 3s - loss: 1.2793e-04 - 3s/epoch - 2ms/step\n",
      "Epoch 19/100\n",
      "1422/1422 - 4s - loss: 1.2840e-04 - 4s/epoch - 2ms/step\n",
      "Epoch 20/100\n",
      "1422/1422 - 4s - loss: 1.3062e-04 - 4s/epoch - 3ms/step\n",
      "Epoch 21/100\n",
      "1422/1422 - 3s - loss: 1.3389e-04 - 3s/epoch - 2ms/step\n",
      "Epoch 22/100\n",
      "1422/1422 - 4s - loss: 1.3201e-04 - 4s/epoch - 3ms/step\n",
      "Epoch 23/100\n",
      "1422/1422 - 3s - loss: 1.3277e-04 - 3s/epoch - 2ms/step\n",
      "Epoch 24/100\n",
      "1422/1422 - 3s - loss: 1.3003e-04 - 3s/epoch - 2ms/step\n",
      "Epoch 25/100\n",
      "1422/1422 - 2s - loss: 1.3216e-04 - 2s/epoch - 2ms/step\n",
      "Epoch 26/100\n",
      "1422/1422 - 3s - loss: 1.3049e-04 - 3s/epoch - 2ms/step\n",
      "Epoch 27/100\n",
      "1422/1422 - 3s - loss: 1.2953e-04 - 3s/epoch - 2ms/step\n",
      "Epoch 28/100\n",
      "1422/1422 - 3s - loss: 1.3078e-04 - 3s/epoch - 2ms/step\n",
      "Epoch 29/100\n",
      "1422/1422 - 3s - loss: 1.3070e-04 - 3s/epoch - 2ms/step\n",
      "Epoch 30/100\n",
      "1422/1422 - 2s - loss: 1.2997e-04 - 2s/epoch - 2ms/step\n",
      "Epoch 31/100\n",
      "1422/1422 - 3s - loss: 1.3221e-04 - 3s/epoch - 2ms/step\n",
      "Epoch 32/100\n",
      "1422/1422 - 3s - loss: 1.3372e-04 - 3s/epoch - 2ms/step\n",
      "Epoch 33/100\n",
      "1422/1422 - 3s - loss: 1.3065e-04 - 3s/epoch - 2ms/step\n",
      "Epoch 34/100\n",
      "1422/1422 - 3s - loss: 1.3144e-04 - 3s/epoch - 2ms/step\n",
      "Epoch 35/100\n",
      "1422/1422 - 3s - loss: 1.3020e-04 - 3s/epoch - 2ms/step\n",
      "Epoch 36/100\n",
      "1422/1422 - 3s - loss: 1.3064e-04 - 3s/epoch - 2ms/step\n",
      "Epoch 37/100\n",
      "1422/1422 - 3s - loss: 1.2608e-04 - 3s/epoch - 2ms/step\n",
      "Epoch 38/100\n",
      "1422/1422 - 3s - loss: 1.3113e-04 - 3s/epoch - 2ms/step\n",
      "Epoch 39/100\n",
      "1422/1422 - 3s - loss: 1.2958e-04 - 3s/epoch - 2ms/step\n",
      "Epoch 40/100\n",
      "1422/1422 - 3s - loss: 1.2698e-04 - 3s/epoch - 2ms/step\n",
      "Epoch 41/100\n",
      "1422/1422 - 3s - loss: 1.2822e-04 - 3s/epoch - 2ms/step\n",
      "Epoch 42/100\n",
      "1422/1422 - 3s - loss: 1.2681e-04 - 3s/epoch - 2ms/step\n",
      "Epoch 43/100\n",
      "1422/1422 - 2s - loss: 1.3128e-04 - 2s/epoch - 2ms/step\n",
      "Epoch 44/100\n",
      "1422/1422 - 2s - loss: 1.3180e-04 - 2s/epoch - 2ms/step\n",
      "Epoch 45/100\n",
      "1422/1422 - 2s - loss: 1.2639e-04 - 2s/epoch - 2ms/step\n",
      "Epoch 46/100\n",
      "1422/1422 - 3s - loss: 1.3073e-04 - 3s/epoch - 2ms/step\n",
      "Epoch 47/100\n",
      "1422/1422 - 2s - loss: 1.3131e-04 - 2s/epoch - 2ms/step\n",
      "Epoch 48/100\n",
      "1422/1422 - 3s - loss: 1.3078e-04 - 3s/epoch - 2ms/step\n",
      "Epoch 49/100\n",
      "1422/1422 - 2s - loss: 1.2800e-04 - 2s/epoch - 2ms/step\n",
      "Epoch 50/100\n",
      "1422/1422 - 3s - loss: 1.2955e-04 - 3s/epoch - 2ms/step\n",
      "Epoch 51/100\n",
      "1422/1422 - 2s - loss: 1.3183e-04 - 2s/epoch - 2ms/step\n",
      "Epoch 52/100\n",
      "1422/1422 - 3s - loss: 1.3034e-04 - 3s/epoch - 2ms/step\n",
      "Epoch 53/100\n",
      "1422/1422 - 2s - loss: 1.3019e-04 - 2s/epoch - 2ms/step\n",
      "Epoch 54/100\n",
      "1422/1422 - 2s - loss: 1.2955e-04 - 2s/epoch - 2ms/step\n",
      "Epoch 55/100\n",
      "1422/1422 - 2s - loss: 1.3236e-04 - 2s/epoch - 2ms/step\n",
      "Epoch 56/100\n",
      "1422/1422 - 2s - loss: 1.2858e-04 - 2s/epoch - 2ms/step\n",
      "Epoch 57/100\n",
      "1422/1422 - 2s - loss: 1.2704e-04 - 2s/epoch - 2ms/step\n",
      "Epoch 58/100\n",
      "1422/1422 - 3s - loss: 1.2703e-04 - 3s/epoch - 2ms/step\n",
      "Epoch 59/100\n",
      "1422/1422 - 3s - loss: 1.3021e-04 - 3s/epoch - 2ms/step\n",
      "Epoch 60/100\n",
      "1422/1422 - 3s - loss: 1.3132e-04 - 3s/epoch - 2ms/step\n",
      "Epoch 61/100\n",
      "1422/1422 - 2s - loss: 1.2655e-04 - 2s/epoch - 2ms/step\n",
      "Epoch 62/100\n",
      "1422/1422 - 2s - loss: 1.2803e-04 - 2s/epoch - 2ms/step\n",
      "Epoch 63/100\n",
      "1422/1422 - 2s - loss: 1.2797e-04 - 2s/epoch - 2ms/step\n",
      "Epoch 64/100\n",
      "1422/1422 - 3s - loss: 1.2869e-04 - 3s/epoch - 2ms/step\n",
      "Epoch 65/100\n",
      "1422/1422 - 4s - loss: 1.2976e-04 - 4s/epoch - 3ms/step\n",
      "Epoch 66/100\n",
      "1422/1422 - 2s - loss: 1.2848e-04 - 2s/epoch - 2ms/step\n",
      "Epoch 67/100\n",
      "1422/1422 - 3s - loss: 1.3017e-04 - 3s/epoch - 2ms/step\n",
      "Epoch 68/100\n",
      "1422/1422 - 2s - loss: 1.3063e-04 - 2s/epoch - 2ms/step\n",
      "Epoch 69/100\n",
      "1422/1422 - 2s - loss: 1.2785e-04 - 2s/epoch - 2ms/step\n",
      "Epoch 70/100\n",
      "1422/1422 - 3s - loss: 1.2948e-04 - 3s/epoch - 2ms/step\n",
      "Epoch 71/100\n",
      "1422/1422 - 3s - loss: 1.3003e-04 - 3s/epoch - 2ms/step\n",
      "Epoch 72/100\n",
      "1422/1422 - 2s - loss: 1.3125e-04 - 2s/epoch - 2ms/step\n",
      "Epoch 73/100\n",
      "1422/1422 - 2s - loss: 1.2850e-04 - 2s/epoch - 2ms/step\n",
      "Epoch 74/100\n",
      "1422/1422 - 2s - loss: 1.2967e-04 - 2s/epoch - 2ms/step\n",
      "Epoch 75/100\n",
      "1422/1422 - 2s - loss: 1.2943e-04 - 2s/epoch - 2ms/step\n",
      "Epoch 76/100\n",
      "1422/1422 - 2s - loss: 1.3286e-04 - 2s/epoch - 2ms/step\n",
      "Epoch 77/100\n",
      "1422/1422 - 3s - loss: 1.2699e-04 - 3s/epoch - 2ms/step\n",
      "Epoch 78/100\n",
      "1422/1422 - 2s - loss: 1.2646e-04 - 2s/epoch - 2ms/step\n",
      "Epoch 79/100\n",
      "1422/1422 - 2s - loss: 1.2916e-04 - 2s/epoch - 2ms/step\n",
      "Epoch 80/100\n",
      "1422/1422 - 2s - loss: 1.2846e-04 - 2s/epoch - 2ms/step\n",
      "Epoch 81/100\n",
      "1422/1422 - 2s - loss: 1.3023e-04 - 2s/epoch - 2ms/step\n",
      "Epoch 82/100\n",
      "1422/1422 - 2s - loss: 1.2752e-04 - 2s/epoch - 2ms/step\n",
      "Epoch 83/100\n",
      "1422/1422 - 3s - loss: 1.2879e-04 - 3s/epoch - 2ms/step\n",
      "Epoch 84/100\n",
      "1422/1422 - 3s - loss: 1.2957e-04 - 3s/epoch - 2ms/step\n",
      "Epoch 85/100\n",
      "1422/1422 - 3s - loss: 1.2891e-04 - 3s/epoch - 2ms/step\n",
      "Epoch 86/100\n",
      "1422/1422 - 3s - loss: 1.2899e-04 - 3s/epoch - 2ms/step\n",
      "Epoch 87/100\n",
      "1422/1422 - 2s - loss: 1.3010e-04 - 2s/epoch - 2ms/step\n",
      "Epoch 88/100\n",
      "1422/1422 - 3s - loss: 1.2935e-04 - 3s/epoch - 2ms/step\n",
      "Epoch 89/100\n",
      "1422/1422 - 3s - loss: 1.3483e-04 - 3s/epoch - 2ms/step\n",
      "Epoch 90/100\n",
      "1422/1422 - 2s - loss: 1.3009e-04 - 2s/epoch - 2ms/step\n",
      "Epoch 91/100\n",
      "1422/1422 - 2s - loss: 1.2706e-04 - 2s/epoch - 2ms/step\n",
      "Epoch 92/100\n",
      "1422/1422 - 2s - loss: 1.2820e-04 - 2s/epoch - 2ms/step\n",
      "Epoch 93/100\n",
      "1422/1422 - 2s - loss: 1.2643e-04 - 2s/epoch - 2ms/step\n",
      "Epoch 94/100\n",
      "1422/1422 - 2s - loss: 1.3005e-04 - 2s/epoch - 2ms/step\n",
      "Epoch 95/100\n",
      "1422/1422 - 3s - loss: 1.2474e-04 - 3s/epoch - 2ms/step\n",
      "Epoch 96/100\n",
      "1422/1422 - 3s - loss: 1.3258e-04 - 3s/epoch - 2ms/step\n",
      "Epoch 97/100\n",
      "1422/1422 - 2s - loss: 1.2929e-04 - 2s/epoch - 2ms/step\n",
      "Epoch 98/100\n",
      "1422/1422 - 2s - loss: 1.2920e-04 - 2s/epoch - 2ms/step\n",
      "Epoch 99/100\n",
      "1422/1422 - 2s - loss: 1.2868e-04 - 2s/epoch - 2ms/step\n",
      "Epoch 100/100\n",
      "1422/1422 - 2s - loss: 1.2976e-04 - 2s/epoch - 2ms/step\n"
     ]
    },
    {
     "data": {
      "text/plain": [
       "<keras.callbacks.History at 0x7fda9b515eb0>"
      ]
     },
     "execution_count": 73,
     "metadata": {},
     "output_type": "execute_result"
    }
   ],
   "source": [
    "# creating and fitting LSTM network\n",
    "model = Sequential()\n",
    "model.add(LSTM(4, input_shape=(1, targetting)))\n",
    "model.add(Dense(1))\n",
    "model.compile(loss='mean_squared_error', optimizer='adam')\n",
    "model.fit(trainX, trainY, epochs=100, batch_size=1, verbose=2)"
   ]
  },
  {
   "cell_type": "code",
   "execution_count": 76,
   "id": "28dcb7bc-b233-4845-a83a-0d9efed7b004",
   "metadata": {},
   "outputs": [
    {
     "name": "stdout",
     "output_type": "stream",
     "text": [
      "45/45 [==============================] - 0s 2ms/step\n",
      "20/20 [==============================] - 0s 2ms/step\n"
     ]
    }
   ],
   "source": [
    "# making predictions\n",
    "train_Predict = model.predict(trainX)\n",
    "test_Predict = model.predict(testX)"
   ]
  },
  {
   "cell_type": "code",
   "execution_count": 77,
   "id": "a968c0fb-870b-48b1-bb3f-64ae01faf8df",
   "metadata": {},
   "outputs": [],
   "source": [
    "# invert predictions so we have the same units instead of normalised units\n",
    "train_Predict = scaling.inverse_transform(train_Predict)\n",
    "trainY = scaling.inverse_transform([trainY])\n",
    "test_Predict = scaling.inverse_transform(test_Predict)\n",
    "testY = scaling.inverse_transform([testY])"
   ]
  },
  {
   "cell_type": "code",
   "execution_count": 78,
   "id": "11faf63e-52fb-4276-addc-af3c01a30f01",
   "metadata": {},
   "outputs": [
    {
     "name": "stdout",
     "output_type": "stream",
     "text": [
      "Train Score: 2.635207062776072\n",
      "Test Score: 13.231813490782132\n"
     ]
    }
   ],
   "source": [
    "# calculate root mean squared error to understand how good our model is \n",
    "trainScore = np.sqrt(mean_squared_error(trainY[0], train_Predict[:,0]))\n",
    "print('Train Score:',  (trainScore))\n",
    "testScore = np.sqrt(mean_squared_error(testY[0], test_Predict[:,0]))\n",
    "print('Test Score:', (testScore))"
   ]
  },
  {
   "cell_type": "code",
   "execution_count": 79,
   "id": "02b07fc5-3315-420d-999d-06069acd801a",
   "metadata": {},
   "outputs": [
    {
     "data": {
      "image/png": "[encoded data removed]",
      "text/plain": [
       "<Figure size 432x288 with 1 Axes>"
      ]
     },
     "metadata": {
      "needs_background": "light"
     },
     "output_type": "display_data"
    }
   ],
   "source": [
    "# shift train predictions for plotting\n",
    "train_Plot = np.empty_like(df)\n",
    "train_Plot[:, :] = np.nan\n",
    "train_Plot[targetting:len(train_Predict)+targetting, :] = train_Predict\n",
    "# shift test predictions for plotting\n",
    "test_Plot = np.empty_like(df)\n",
    "test_Plot[:, :] = np.nan\n",
    "test_Plot[len(train_Predict)+(targetting*2)+1:len(df)-1, :] = test_Predict\n",
    "# plot baseline and predictions\n",
    "plt.plot(scaling.inverse_transform(df))\n",
    "plt.plot(trainPredictPlot)\n",
    "plt.plot(testPredictPlot)\n",
    "plt.show()"
   ]
  },
  {
   "cell_type": "code",
   "execution_count": null,
   "id": "a4ed2eb0-e9af-4c82-af23-aa269b544c65",
   "metadata": {},
   "outputs": [],
   "source": []
  }
 ],
 "metadata": {
  "kernelspec": {
   "display_name": "Python 3 (ipykernel)",
   "language": "python",
   "name": "python3"
  },
  "language_info": {
   "codemirror_mode": {
    "name": "ipython",
    "version": 3
   },
   "file_extension": ".py",
   "mimetype": "text/x-python",
   "name": "python",
   "nbconvert_exporter": "python",
   "pygments_lexer": "ipython3",
   "version": "3.9.12"
  }
 },
 "nbformat": 4,
 "nbformat_minor": 5
}
